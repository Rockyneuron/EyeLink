{
 "cells": [
  {
   "cell_type": "code",
   "execution_count": 5,
   "metadata": {},
   "outputs": [],
   "source": [
    "import eyelinkparser\n",
    "from eyelinkparser import visualize\n",
    "import datamatrix\n",
    "from eyelinkparser import parse, defaulttraceprocessor\n",
    "from datamatrix import functional as fnc, series as srs, NAN\n",
    "from datamatrix import plot, operations as ops\n",
    "import matplotlib.patches as mpatches \n",
    "from matplotlib import pyplot as plt\n",
    "from matplotlib import lines\n",
    "import matplotlib.lines as mlines\n",
    "import numpy as np\n",
    "from numpy import mean, absolute\n",
    "import pandas as pd\n",
    "import seaborn as sns\n",
    "\n",
    "np.random.seed(42)  # Fix random seed for predictable outcomes"
   ]
  },
  {
   "cell_type": "code",
   "execution_count": 20,
   "metadata": {},
   "outputs": [],
   "source": [
    "def only_stream(phase):\n",
    "    return phase == 'stream'\n",
    "\n",
    "@fnc.memoize(persistent=True)\n",
    "def get_dm_part1():\n",
    "    dm = eyelinkparser.parse(\n",
    "        folder='results/ahora_2023_06_07_11_22',  # This is where the data is\n",
    "        gaze_pos=False,              # Don't store gaze-position information to save memory\n",
    "        time_trace=False,            # Don't store absolute timestamps to save memory\n",
    "        phasemap={'cue': 'stream'},  # Merge the cue into the stream phase\n",
    "        phasefilter=only_stream)     # Only parse stream phase\n",
    "    return dm\n",
    "\n",
    "dm = get_dm_part1()\n"
   ]
  },
  {
   "cell_type": "code",
   "execution_count": 21,
   "metadata": {},
   "outputs": [
    {
     "data": {
      "text/html": [
       "<table><tr></tr></table>"
      ],
      "text/plain": [
       "DataMatrix[15, 0x271bc635730]\n",
       "+---+\n",
       "| # |\n",
       "+---+\n",
       "+---+"
      ]
     },
     "execution_count": 21,
     "metadata": {},
     "output_type": "execute_result"
    }
   ],
   "source": [
    "dm"
   ]
  },
  {
   "cell_type": "code",
   "execution_count": 22,
   "metadata": {},
   "outputs": [
    {
     "ename": "AttributeError",
     "evalue": "No column named \"ptrace_stream\"",
     "output_type": "error",
     "traceback": [
      "\u001b[1;31m---------------------------------------------------------------------------\u001b[0m",
      "\u001b[1;31mAttributeError\u001b[0m                            Traceback (most recent call last)",
      "\u001b[1;32mz:\\backup_antiguo_ordenador\\escritorio\\projects\\EyeLink\\EyeLink\\read_edf.ipynb Cell 4\u001b[0m in \u001b[0;36m1\n\u001b[1;32m----> <a href='vscode-notebook-cell:/z%3A/backup_antiguo_ordenador/escritorio/projects/EyeLink/EyeLink/read_edf.ipynb#W2sZmlsZQ%3D%3D?line=0'>1</a>\u001b[0m dm\u001b[39m.\u001b[39mreconstructed_stream \u001b[39m=\u001b[39m srs\u001b[39m.\u001b[39mblinkreconstruct(dm\u001b[39m.\u001b[39;49mptrace_stream,\n\u001b[0;32m      <a href='vscode-notebook-cell:/z%3A/backup_antiguo_ordenador/escritorio/projects/EyeLink/EyeLink/read_edf.ipynb#W2sZmlsZQ%3D%3D?line=1'>2</a>\u001b[0m                                                mode\u001b[39m=\u001b[39m\u001b[39m'\u001b[39m\u001b[39madvanced\u001b[39m\u001b[39m'\u001b[39m)\n",
      "File \u001b[1;32mc:\\Users\\arturoV\\Anaconda3\\envs\\bayes\\lib\\site-packages\\datamatrix\\_datamatrix\\_datamatrix.py:774\u001b[0m, in \u001b[0;36mDataMatrix.__getattr__\u001b[1;34m(self, name)\u001b[0m\n\u001b[0;32m    772\u001b[0m \u001b[39mif\u001b[39;00m name \u001b[39min\u001b[39;00m (\u001b[39m'\u001b[39m\u001b[39m__getstate__\u001b[39m\u001b[39m'\u001b[39m, \u001b[39m'\u001b[39m\u001b[39m_cols\u001b[39m\u001b[39m'\u001b[39m):\n\u001b[0;32m    773\u001b[0m     \u001b[39mraise\u001b[39;00m \u001b[39mAttributeError\u001b[39;00m()\n\u001b[1;32m--> 774\u001b[0m \u001b[39mreturn\u001b[39;00m \u001b[39mself\u001b[39;49m\u001b[39m.\u001b[39;49m_getcolbyname(name)\n",
      "File \u001b[1;32mc:\\Users\\arturoV\\Anaconda3\\envs\\bayes\\lib\\site-packages\\datamatrix\\_datamatrix\\_datamatrix.py:509\u001b[0m, in \u001b[0;36mDataMatrix._getcolbyname\u001b[1;34m(self, key)\u001b[0m\n\u001b[0;32m    507\u001b[0m col \u001b[39m=\u001b[39m \u001b[39mself\u001b[39m\u001b[39m.\u001b[39m_cols\u001b[39m.\u001b[39mget(key, \u001b[39mNone\u001b[39;00m)\n\u001b[0;32m    508\u001b[0m \u001b[39mif\u001b[39;00m col \u001b[39mis\u001b[39;00m \u001b[39mNone\u001b[39;00m:\n\u001b[1;32m--> 509\u001b[0m     \u001b[39mraise\u001b[39;00m \u001b[39mAttributeError\u001b[39;00m(\u001b[39mu\u001b[39m\u001b[39m'\u001b[39m\u001b[39mNo column named \u001b[39m\u001b[39m\"\u001b[39m\u001b[39m%s\u001b[39;00m\u001b[39m\"\u001b[39m\u001b[39m'\u001b[39m \u001b[39m%\u001b[39m key)\n\u001b[0;32m    510\u001b[0m \u001b[39mreturn\u001b[39;00m col\n",
      "\u001b[1;31mAttributeError\u001b[0m: No column named \"ptrace_stream\""
     ]
    }
   ],
   "source": [
    "dm.reconstructed_stream = srs.blinkreconstruct(dm.ptrace_stream,\n",
    "                                               mode='advanced')"
   ]
  }
 ],
 "metadata": {
  "kernelspec": {
   "display_name": "bayes",
   "language": "python",
   "name": "python3"
  },
  "language_info": {
   "codemirror_mode": {
    "name": "ipython",
    "version": 3
   },
   "file_extension": ".py",
   "mimetype": "text/x-python",
   "name": "python",
   "nbconvert_exporter": "python",
   "pygments_lexer": "ipython3",
   "version": "3.9.15"
  },
  "orig_nbformat": 4
 },
 "nbformat": 4,
 "nbformat_minor": 2
}
